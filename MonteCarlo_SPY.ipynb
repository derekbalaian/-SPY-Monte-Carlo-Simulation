{
 "cells": [
  {
   "cell_type": "markdown",
   "id": "b9f56b54",
   "metadata": {},
   "source": [
    "# SPY Monte Carlo — 1-Year GBM\n",
    "Pulls 5y of SPY daily data, estimates μ and σ, runs Monte Carlo for one year (252 trading days), and produces two visuals: percentile paths and a one-year return histogram."
   ]
  },
  {
   "cell_type": "code",
   "execution_count": null,
   "id": "5d6b23ea",
   "metadata": {},
   "outputs": [],
   "source": [
    "# Imports & setup\n",
    "import numpy as np\n",
    "import pandas as pd\n",
    "import matplotlib.pyplot as plt\n",
    "import yfinance as yf\n",
    "from datetime import datetime, timedelta\n",
    "from pathlib import Path\n",
    "\n",
    "SEED = 42\n",
    "np.random.seed(SEED)\n",
    "\n",
    "FIG_DIR = Path('figures')\n",
    "FIG_DIR.mkdir(exist_ok=True)\n",
    "\n",
    "plt.rcParams['figure.figsize'] = (10, 4.8)\n",
    "plt.rcParams['axes.grid'] = True\n"
   ]
  },
  {
   "cell_type": "code",
   "execution_count": null,
   "id": "bd06aa18",
   "metadata": {},
   "outputs": [],
   "source": [
    "# Pull last 5 years of SPY daily data\n",
    "end = pd.Timestamp.today().normalize()\n",
    "start = end - pd.Timedelta(days=int(365.25*5)+7)\n",
    "\n",
    "spy = yf.download('SPY', start=start, end=end, progress=False)\n",
    "spy = spy[['Adj Close']].rename(columns={'Adj Close':'adj_close'}).dropna()\n",
    "spy.tail()"
   ]
  },
  {
   "cell_type": "code",
   "execution_count": null,
   "id": "16ef8017",
   "metadata": {},
   "outputs": [],
   "source": [
    "# Daily log-returns and annualized μ, σ\n",
    "prices = spy['adj_close']\n",
    "logret = np.log(prices).diff().dropna()\n",
    "\n",
    "TRADING_DAYS = 252\n",
    "mu_d = logret.mean()\n",
    "sigma_d = logret.std(ddof=1)\n",
    "\n",
    "mu = mu_d * TRADING_DAYS\n",
    "sigma = sigma_d * np.sqrt(TRADING_DAYS)\n",
    "S0 = float(prices.iloc[-1])\n",
    "\n",
    "mu, sigma, S0"
   ]
  },
  {
   "cell_type": "code",
   "execution_count": null,
   "id": "370c522c",
   "metadata": {},
   "outputs": [],
   "source": [
    "# Monte Carlo GBM\n",
    "N = 1000\n",
    "T = TRADING_DAYS\n",
    "dt = 1.0 / TRADING_DAYS\n",
    "\n",
    "eps = np.random.normal(size=(T, N))\n",
    "paths = np.zeros((T+1, N))\n",
    "paths[0, :] = S0\n",
    "\n",
    "drift = (mu - 0.5*sigma**2)*dt\n",
    "diff = sigma*np.sqrt(dt)\n",
    "\n",
    "for t in range(1, T+1):\n",
    "    paths[t, :] = paths[t-1, :] * np.exp(drift + diff*eps[t-1, :])\n",
    "\n",
    "pcts = [5,25,50,75,95]\n",
    "percs = np.percentile(paths, pcts, axis=1)\n",
    "mean_path = paths.mean(axis=1)\n"
   ]
  },
  {
   "cell_type": "code",
   "execution_count": null,
   "id": "88711f81",
   "metadata": {},
   "outputs": [],
   "source": [
    "# Figure 1: Percentile paths\n",
    "days = np.arange(T+1)\n",
    "fig, ax = plt.subplots()\n",
    "labels = ['p5','p25','p50 (median)','p75','p95']\n",
    "for i, lbl in enumerate(labels):\n",
    "    ax.plot(days, percs[i], label=lbl, linewidth=2 if '50' in lbl else 1.8)\n",
    "ax.plot(days, mean_path, label='mean', linestyle='--', linewidth=1.5)\n",
    "ax.set_title('SPY — One-Year Monte Carlo Percentile Paths')\n",
    "ax.set_xlabel('Day'); ax.set_ylabel('Price'); ax.legend(ncol=3, fontsize=9)\n",
    "fig.tight_layout()\n",
    "\n",
    "ts = datetime.now().strftime('%Y%m%d_%H%M%S')\n",
    "fig1_path = FIG_DIR / f'percentile_paths_{ts}.png'\n",
    "plt.savefig(fig1_path, dpi=200)\n",
    "fig1_path"
   ]
  },
  {
   "cell_type": "code",
   "execution_count": null,
   "id": "b77964ce",
   "metadata": {},
   "outputs": [],
   "source": [
    "# Figure 2: One-year return histogram\n",
    "terminal = paths[-1, :]\n",
    "terminal_ret = terminal / S0 - 1.0\n",
    "\n",
    "fig, ax = plt.subplots()\n",
    "ax.hist(terminal_ret, bins=40, alpha=0.85)\n",
    "for b in np.percentile(terminal_ret, [5,25,50,75,95]):\n",
    "    ax.axvline(b, linestyle='--', linewidth=1.3)\n",
    "ax.set_title('SPY — Simulated One-Year Return Distribution')\n",
    "ax.set_xlabel('Return'); ax.set_ylabel('Frequency')\n",
    "fig.tight_layout()\n",
    "\n",
    "fig2_path = FIG_DIR / f'return_histogram_{ts}.png'\n",
    "plt.savefig(fig2_path, dpi=200)\n",
    "(fig2_path, np.percentile(terminal_ret, [5,25,50,75,95]))"
   ]
  },
  {
   "cell_type": "markdown",
   "id": "c1184733",
   "metadata": {},
   "source": [
    "**Notes**  \n",
    "- The mean path typically lies above the median under lognormal dynamics (skew).  \n",
    "- Re-run periodically to refresh μ, σ estimates; bands will change with volatility.  \n",
    "- Increase `N` for smoother histograms (runtime scales linearly).\n"
   ]
  }
 ],
 "metadata": {},
 "nbformat": 4,
 "nbformat_minor": 5
}
